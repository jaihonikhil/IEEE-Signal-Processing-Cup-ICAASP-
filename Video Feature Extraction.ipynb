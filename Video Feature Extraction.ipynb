{
 "cells": [
  {
   "cell_type": "code",
   "execution_count": 1,
   "metadata": {},
   "outputs": [],
   "source": [
    "import cv2\n",
    "import numpy as np\n",
    "import os\n",
    "import matplotlib.pyplot as plt\n",
    "import csv"
   ]
  },
  {
   "cell_type": "code",
   "execution_count": null,
   "metadata": {},
   "outputs": [],
   "source": [
    "execution_path=os.getcwd() #Gets current working directory of this notebook"
   ]
  },
  {
   "cell_type": "markdown",
   "metadata": {},
   "source": [
    "## Function to save frames of videos"
   ]
  },
  {
   "cell_type": "code",
   "execution_count": null,
   "metadata": {},
   "outputs": [],
   "source": [
    "def getFrame(sec):\n",
    "    vidcap.set(cv2.CAP_PROP_POS_MSEC,sec*1000)\n",
    "    hasFrames,image = vidcap.read()\n",
    "    if hasFrames:\n",
    "        cv2.imwrite(os.path.join(execution_path,\"image\"+str(count)+\".jpg\"), image)     # save frame as JPG file\n",
    "    return hasFrames"
   ]
  },
  {
   "cell_type": "markdown",
   "metadata": {},
   "source": [
    "## Loop to save frames of videos & Compute frame by frame similarity score"
   ]
  },
  {
   "cell_type": "code",
   "execution_count": null,
   "metadata": {},
   "outputs": [],
   "source": [
    "for i in range (1,11,1):\n",
    "    execution_path=os.getcwd()\n",
    "    if i<=5:\n",
    "        os.mkdir(os.path.join(execution_path,\"abnormal_\"+str(i)))\n",
    "        execution_path=os.path.join(execution_path,\"Videos SP Cup\", \"abnormal_\"+str(i))\n",
    "    else:\n",
    "        os.mkdir(os.path.join(execution_path,\"normal_\"+str(i-5)))\n",
    "        execution_path=os.path.join(execution_path, \"Videos SP Cup\", \"normal_\"+str(i-5))\n",
    "    video_path=execution_path+\".avi\"\n",
    "    print(video_path)\n",
    "    vidcap = cv2.VideoCapture(video_path)\n",
    "    sec = 0\n",
    "    frameRate = 0.05 #Captures image in each 0.5 seconds\n",
    "    count=1\n",
    "    if i>=6:\n",
    "        execution_path=os.path.join(os.getcwd(),\"normal_\"+str(i-5))\n",
    "    else:\n",
    "        execution_path=os.path.join(os.getcwd(),\"abnormal_\"+str(i))\n",
    "    success = getFrame(sec)\n",
    "    while success:\n",
    "        count = count + 1\n",
    "        sec = sec + frameRate\n",
    "        sec = round(sec, 2)\n",
    "        success = getFrame(sec)\n",
    "    ct=1\n",
    "    with open('mycsv'+str(i)+'.csv','w',newline='') as f:\n",
    "        writer=csv.writer(f)\n",
    "        writer.writerow(['percentage']) \n",
    "        while ct<count-1:\n",
    "            original = cv2.imread(os.path.join(execution_path , \"image\"+str(ct)+\".jpg\"))\n",
    "            duplicate = cv2.imread(os.path.join(execution_path , \"image\"+str(ct+1)+\".jpg\"))\n",
    "            ct=ct+1\n",
    "            #Computation of frame by frame similarity score\n",
    "            difference = cv2.subtract(original, duplicate)\n",
    "            b, g, r = cv2.split(difference)\n",
    "            orb = cv2.ORB_create()\n",
    "            kp_1, desc_1 = orb.detectAndCompute(original, None)\n",
    "            kp_2, desc_2 = orb.detectAndCompute(duplicate, None)\n",
    "            bf = cv2.BFMatcher(cv2.NORM_HAMMING, crossCheck=True)\n",
    "            matches = bf.match(desc_1,desc_2)\n",
    "            matches = sorted(matches, key = lambda x:x.distance)\n",
    "            img3 = cv2.drawMatches(original,kp_1,duplicate,kp_2,matches[:10],None,flags=cv2.DrawMatchesFlags_NOT_DRAW_SINGLE_POINTS)\n",
    "            matches = bf.match(desc_1,desc_2)\n",
    "            good_points = []\n",
    "            ratio = 40\n",
    "            for m in matches:\n",
    "                if m.distance < ratio:\n",
    "                    good_points.append(m)\n",
    "            result = cv2.drawMatches(original, kp_1, duplicate, kp_2, good_points, None, flags=cv2.DrawMatchesFlags_NOT_DRAW_SINGLE_POINTS)\n",
    "            number_keypoints = 0\n",
    "            if len(kp_1) <= len(kp_2):\n",
    "                number_keypoints = len(kp_1)\n",
    "            else:\n",
    "                number_keypoints = len(kp_2)\n",
    "#           print(\"Keypoints 1ST Image: \" + str(len(kp_1)))\n",
    "#           print(\"Keypoints 2ND Image: \" + str(len(kp_2)))\n",
    "#           print(\"GOOD Matches:\", len(good_points))\n",
    "#           print(\"How good it's the match: \", len(good_points) / number_keypoints * 100, \"%\")\n",
    "            perc=len(good_points) / number_keypoints * 100          \n",
    "            writer.writerow([str(perc)])"
   ]
  }
 ],
 "metadata": {
  "kernelspec": {
   "display_name": "Python 3",
   "language": "python",
   "name": "python3"
  },
  "language_info": {
   "codemirror_mode": {
    "name": "ipython",
    "version": 3
   },
   "file_extension": ".py",
   "mimetype": "text/x-python",
   "name": "python",
   "nbconvert_exporter": "python",
   "pygments_lexer": "ipython3",
   "version": "3.7.4"
  }
 },
 "nbformat": 4,
 "nbformat_minor": 2
}
