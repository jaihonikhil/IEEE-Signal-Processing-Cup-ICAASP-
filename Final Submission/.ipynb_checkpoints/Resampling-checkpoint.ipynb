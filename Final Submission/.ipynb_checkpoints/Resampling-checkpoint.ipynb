{
 "cells": [
  {
   "cell_type": "code",
   "execution_count": 1,
   "metadata": {},
   "outputs": [
    {
     "name": "stderr",
     "output_type": "stream",
     "text": [
      "Failed to load Python extension for LZ4 support. LZ4 compression will not be available.\n"
     ]
    }
   ],
   "source": [
    "import numpy as np \n",
    "from sklearn import preprocessing\n",
    "import rosbag\n",
    "import matplotlib.pyplot as plt"
   ]
  },
  {
   "cell_type": "code",
   "execution_count": 2,
   "metadata": {},
   "outputs": [],
   "source": [
    "directory='Paste the directory which contains the bag files'\n",
    "bagname= 'bagfile name'\n",
    "bag=rosbag.Bag(directory+bagname)"
   ]
  },
  {
   "cell_type": "code",
   "execution_count": 3,
   "metadata": {},
   "outputs": [],
   "source": [
    "#Extract features from .bag file\n",
    "\n",
    "#orientation\n",
    "or_x=[]\n",
    "or_y=[]\n",
    "or_z=[]\n",
    "or_w=[]\n",
    "#angular velocity\n",
    "av_x=[]\n",
    "av_y=[]\n",
    "av_z=[]\n",
    "#linear acceleration\n",
    "la_x=[]\n",
    "la_y=[]\n",
    "la_z=[]\n"
   ]
  },
  {
   "cell_type": "code",
   "execution_count": 4,
   "metadata": {},
   "outputs": [],
   "source": [
    "#Timestamp IMU\n",
    "timestampimu=[]\n",
    "for(topic, msg, t)in bag.read_messages(topics=['/mavros/imu/data']):\n",
    "    timestampimu.append(msg.header.stamp.secs+0.000000001*msg.header.stamp.nsecs)\n",
    "    or_x.append(msg.orientation.x)\n",
    "    or_y.append(msg.orientation.y)\n",
    "    or_z.append(msg.orientation.z)\n",
    "    or_w.append(msg.orientation.x)\n",
    "    av_x.append(msg.angular_velocity.x)\n",
    "    av_y.append(msg.angular_velocity.y)\n",
    "    av_z.append(msg.angular_velocity.z)\n",
    "    la_x.append(msg.linear_acceleration.x)\n",
    "    la_y.append(msg.linear_acceleration.y)\n",
    "    la_z.append(msg.linear_acceleration.z)\n",
    "\n",
    "or_x=np.asarray(or_x)\n",
    "or_y=np.asarray(or_y)\n",
    "or_z=np.asarray(or_z)\n",
    "or_w=np.asarray(or_w)\n",
    "av_x=np.asarray(av_x)\n",
    "av_y=np.asarray(av_y)\n",
    "av_z=np.asarray(av_z)\n",
    "la_x=np.asarray(la_x)\n",
    "la_y=np.asarray(la_y)\n",
    "la_z=np.asarray(la_z)\n",
    "\n",
    "timestampimu=np.asarray(timestampimu)"
   ]
  },
  {
   "cell_type": "code",
   "execution_count": 5,
   "metadata": {},
   "outputs": [],
   "source": [
    "#magnetic field    \n",
    "mf_x=[]\n",
    "mf_y=[]\n",
    "mf_z=[]\n",
    "\n",
    "timestampmag=[]\n",
    "for(topic, msg, t)in bag.read_messages(topics=['/mavros/imu/mag']):\n",
    "    timestampmag.append(msg.header.stamp.secs+0.000000001*msg.header.stamp.nsecs)\n",
    "    mf_x.append(msg.magnetic_field.x)\n",
    "    mf_y.append(msg.magnetic_field.y)\n",
    "    mf_z.append(msg.magnetic_field.z)\n",
    "\n",
    "timestampmag=np.asarray(timestampmag)\n",
    "mf_x=np.asarray(mf_x)\n",
    "mf_y=np.asarray(mf_y)\n",
    "mf_z=np.asarray(mf_z)\n",
    "\n",
    "\n",
    "#static pressure\n",
    "timestamp_staticp=[]\n",
    "staticp=[]\n",
    "for(topic, msg, t)in bag.read_messages(topics=['/mavros/imu/static_pressure']):\n",
    "    timestamp_staticp.append(msg.header.stamp.secs+0.000000001*msg.header.stamp.nsecs)\n",
    "    staticp.append(msg.fluid_pressure)\n",
    "staticp=np.asarray(staticp)\n",
    "timestamp_staticp=np.asarray(timestamp_staticp)\n",
    "\n",
    "\n",
    "#temperature\n",
    "timestamp_temp=[]\n",
    "temp=[]\n",
    "for(topic, msg, t)in bag.read_messages(topics=['/mavros/imu/temperature_baro']):\n",
    "    timestamp_temp.append(msg.header.stamp.secs+0.000000001*msg.header.stamp.nsecs)\n",
    "    temp.append(msg.temperature)\n",
    "temp=np.asarray(temp)\n",
    "timestamp_temp=np.asarray(timestamp_temp)"
   ]
  },
  {
   "cell_type": "code",
   "execution_count": 6,
   "metadata": {},
   "outputs": [
    {
     "name": "stdout",
     "output_type": "stream",
     "text": [
      "Orientation x (142,)\n",
      "Orientation y (142,)\n",
      "Orientation z (142,)\n",
      "Orientation w (142,)\n",
      "Angular velocity x (142,)\n",
      "Angular velocity y (142,)\n",
      "Angular velocity z (142,)\n",
      "Linear acceleration x (142,)\n",
      "Linear acceleration y (142,)\n",
      "Linear acceleration z (142,)\n",
      "Magnetic field x (141,)\n",
      "Magnetic field y (141,)\n",
      "Magnetic field z (141,)\n",
      "Static pressure (141,)\n",
      "Temperature (141,)\n"
     ]
    }
   ],
   "source": [
    "print(\"Orientation x\",or_x.shape)\n",
    "print(\"Orientation y\",or_y.shape)\n",
    "print(\"Orientation z\",or_z.shape)\n",
    "print(\"Orientation w\",or_w.shape)\n",
    "print(\"Angular velocity x\", av_x.shape)\n",
    "print(\"Angular velocity y\", av_y.shape)\n",
    "print(\"Angular velocity z\", av_z.shape)\n",
    "print(\"Linear acceleration x\", la_x.shape)\n",
    "print(\"Linear acceleration y\", la_y.shape)\n",
    "print(\"Linear acceleration z\", la_z.shape)\n",
    "print(\"Magnetic field x\", mf_x.shape)\n",
    "print(\"Magnetic field y\", mf_y.shape)\n",
    "print(\"Magnetic field z\", mf_z.shape)\n",
    "print(\"Static pressure\", staticp.shape)\n",
    "print(\"Temperature\",temp.shape)"
   ]
  },
  {
   "cell_type": "code",
   "execution_count": 7,
   "metadata": {},
   "outputs": [],
   "source": [
    "def interpolation(input, timestamp, Fs_prime):\n",
    "    n_samples = timestamp.shape[0]\n",
    "    Fs = 1 / (np.mean(timestamp[1: n_samples] - timestamp[0: n_samples - 1]) )  # data mean sampling frequency\n",
    "    n_samples_prime = int(np.round(n_samples * Fs_prime / Fs))\n",
    "    timestamp_prime = np.linspace(timestamp.min(), timestamp.max(), n_samples_prime)  # new timestamp\n",
    "    input_prime = np.interp(x=timestamp_prime, xp=timestamp, fp=input)\n",
    "\n",
    "    return input_prime, timestamp_prime"
   ]
  },
  {
   "cell_type": "code",
   "execution_count": 8,
   "metadata": {},
   "outputs": [
    {
     "name": "stdout",
     "output_type": "stream",
     "text": [
      "4.163617189628509\n"
     ]
    }
   ],
   "source": [
    "diff=np.abs(timestamp_staticp[1:len(timestamp_staticp)]-timestamp_staticp[0:len(timestamp_staticp)-1])\n",
    "#print(diff)\n",
    "mean_Fs=1/(np.mean(diff))\n",
    "print(mean_Fs)\n",
    "Fs_prime=mean_Fs"
   ]
  },
  {
   "cell_type": "code",
   "execution_count": 10,
   "metadata": {},
   "outputs": [],
   "source": [
    "newx, newt=interpolation(staticp,timestamp_staticp , Fs_prime)\n",
    "#print(newx.shape)\n",
    "#print(newt.shape)\n",
    "\n",
    "or_x_resampled=np.interp(newt,timestampimu,fp=or_x).reshape(-1,1)\n",
    "or_y_resampled=np.interp(newt,timestampimu,fp=or_y).reshape(-1,1)\n",
    "or_z_resampled=np.interp(newt,timestampimu,fp=or_z).reshape(-1,1)\n",
    "or_w_resampled=np.interp(newt,timestampimu,fp=or_w).reshape(-1,1)\n",
    "av_x_resampled=np.interp(newt,timestampimu,fp=av_x).reshape(-1,1)\n",
    "av_y_resampled=np.interp(newt,timestampimu,fp=av_y).reshape(-1,1)\n",
    "av_z_resampled=np.interp(newt,timestampimu,fp=av_z).reshape(-1,1)\n",
    "la_x_resampled=np.interp(newt,timestampimu,fp=la_x).reshape(-1,1)\n",
    "la_y_resampled=np.interp(newt,timestampimu,fp=la_y).reshape(-1,1)\n",
    "la_z_resampled=np.interp(newt,timestampimu,fp=la_z).reshape(-1,1)\n",
    "\n",
    "\n",
    "mf_x_resampled=np.interp(newt, timestampmag, fp=mf_x).reshape(-1,1)\n",
    "mf_y_resampled=np.interp(newt, timestampmag, fp=mf_y).reshape(-1,1)\n",
    "mf_z_resampled=np.interp(newt, timestampmag, fp=mf_z).reshape(-1,1)\n",
    "\n",
    "temp_resampled=np.interp(newt, timestamp_temp, fp=temp).reshape(-1,1)\n",
    "\n",
    "staticp_resampled=np.interp(newt, timestamp_staticp, fp=staticp).reshape(-1,1)\n",
    "\n",
    "data_resampled=np.concatenate((or_x_resampled, or_y_resampled, or_z_resampled, or_w_resampled, av_x_resampled, av_y_resampled, av_z_resampled,  \n",
    "                la_x_resampled,la_y_resampled, la_z_resampled, mf_x_resampled, mf_y_resampled, mf_z_resampled, temp_resampled, staticp_resampled), axis=1)"
   ]
  },
  {
   "cell_type": "code",
   "execution_count": 11,
   "metadata": {},
   "outputs": [
    {
     "name": "stdout",
     "output_type": "stream",
     "text": [
      "(141, 15)\n"
     ]
    },
    {
     "data": {
      "image/png": "[encoded data removed]",
      "text/plain": [
       "<Figure size 432x288 with 2 Axes>"
      ]
     },
     "metadata": {
      "needs_background": "light"
     },
     "output_type": "display_data"
    }
   ],
   "source": [
    "print(data_resampled.shape)\n",
    "\n",
    "plt.subplot(2, 1, 1)\n",
    "plt.plot(timestampimu, or_y, 'o-')\n",
    "plt.title('Original')\n",
    "plt.ylabel('orientation Y')\n",
    "plt.subplot(2, 1, 2)\n",
    "plt.plot(newt, or_y_resampled, 'o-')\n",
    "plt.xlabel('time (s)')\n",
    "plt.ylabel('orientation Y after resampling')\n",
    "\n",
    "plt.show()"
   ]
  }
 ],
 "metadata": {
  "kernelspec": {
   "display_name": "Python 3",
   "language": "python",
   "name": "python3"
  },
  "language_info": {
   "codemirror_mode": {
    "name": "ipython",
    "version": 3
   },
   "file_extension": ".py",
   "mimetype": "text/x-python",
   "name": "python",
   "nbconvert_exporter": "python",
   "pygments_lexer": "ipython3",
   "version": "3.7.4"
  }
 },
 "nbformat": 4,
 "nbformat_minor": 2
}
