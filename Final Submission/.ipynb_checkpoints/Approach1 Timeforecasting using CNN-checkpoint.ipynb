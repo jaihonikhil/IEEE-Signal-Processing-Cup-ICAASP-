{
 "cells": [
  {
   "cell_type": "code",
   "execution_count": 1,
   "metadata": {},
   "outputs": [
    {
     "name": "stderr",
     "output_type": "stream",
     "text": [
      "Using TensorFlow backend.\n"
     ]
    }
   ],
   "source": [
    "import numpy as np\n",
    "from sklearn import preprocessing\n",
    "from keras.models import Sequential\n",
    "from keras.layers import Dense\n",
    "from keras.layers import Flatten\n",
    "from keras.layers.convolutional import Conv1D\n",
    "from keras.layers.convolutional import MaxPooling1D\n",
    "from sklearn.metrics.pairwise import euclidean_distances\n",
    "import sys\n",
    "from keras.models import load_model\n",
    "import matplotlib.pyplot as plt\n",
    "import scipy\n",
    "from scipy.spatial import distance\n",
    "from sklearn.metrics import f1_score\n",
    "from sklearn import metrics"
   ]
  },
  {
   "cell_type": "code",
   "execution_count": 2,
   "metadata": {},
   "outputs": [],
   "source": [
    "# split a multivariate sequence into samples\n",
    "def split_sequences(sequences, n_steps):\n",
    "\tX, y = list(), list()\n",
    "\tfor i in range(len(sequences)):\n",
    "\t\t# find the end of this pattern\n",
    "\t\tend_ix = i + n_steps\n",
    "\t\t# check if we are beyond the dataset\n",
    "\t\tif end_ix > len(sequences)-1:\n",
    "\t\t\tbreak\n",
    "\t\t# gather input and output parts of the pattern\n",
    "\t\tseq_x, seq_y = sequences[i:end_ix, :], sequences[end_ix, :]\n",
    "\t\tX.append(seq_x)\n",
    "\t\ty.append(seq_y)\n",
    "\treturn np.array(X), np.array(y)"
   ]
  },
  {
   "cell_type": "code",
   "execution_count": 3,
   "metadata": {},
   "outputs": [],
   "source": [
    "N_STEPS=25  #Written as History window in paper\n",
    "training_file_list = open(\"training.txt\",\"r\")\n",
    "training_file_list=training_file_list.readlines()\n",
    "scaler = preprocessing.StandardScaler()\n",
    "training_files=[]\n",
    "training_file_array= np.loadtxt('./NORMAL/File0.bag.csv').T\n",
    "\n",
    "training_files.append(training_file_array)\n",
    "for i in range(len(training_file_list)):\n",
    "\ttraining_data_i=np.loadtxt('./NORMAL/'+ str(training_file_list[i].strip('\\n'))).T\n",
    "\t#print(training_data_i.shape)\n",
    "\ttraining_files.append(training_data_i)\n",
    "\ttraining_file_array=np.concatenate((training_file_array,training_data_i))\n",
    "\n",
    "\n",
    "#print(training_file_array.shape)\n",
    "scaler.fit(training_file_array)\n",
    "normalized_training_array=scaler.transform(training_files[0])\n",
    "X,y=split_sequences(normalized_training_array, N_STEPS)\n",
    "for i in range(len(training_file_list)):\n",
    "\tnormalized_training_i=scaler.transform(training_files[i+1])\n",
    "\tX_i,y_i=split_sequences(normalized_training_i, N_STEPS)\n",
    "\t#print(X_i.shape)\n",
    "\t#print(y_i.shape)\n",
    "\tX=np.concatenate((X,X_i))\n",
    "\ty=np.concatenate((y,y_i))\n",
    "#print(X.shape)\n",
    "#print(y.shape)"
   ]
  },
  {
   "cell_type": "code",
   "execution_count": 4,
   "metadata": {},
   "outputs": [],
   "source": [
    "\n",
    "# Architecture\n",
    "# Training the model\n",
    "n_features = X.shape[2]\n",
    "model = Sequential()\n",
    "model.add(Conv1D(filters=32, kernel_size=4, activation='relu', input_shape=(N_STEPS, n_features)))\n",
    "model.add(MaxPooling1D(pool_size=2))\n",
    "model.add(Conv1D(filters=32, kernel_size=4, activation='relu'))\n",
    "model.add(MaxPooling1D(pool_size=2))\n",
    "model.add(Flatten())\n",
    "model.add(Dense(50, activation='relu'))\n",
    "model.add(Dense(n_features))\n",
    "model.compile(optimizer='adam', loss='mse')\n",
    "model.fit(X, y, epochs=3000, verbose=0)\n",
    "model.save(\"model.h5\")"
   ]
  },
  {
   "cell_type": "code",
   "execution_count": 5,
   "metadata": {},
   "outputs": [],
   "source": [
    "# EM curves for evaluation\n",
    "t_max = 0.9\n",
    "from sklearn.metrics import auc\n",
    "def em(t, t_max, volume_support, s_unif, s_X, n_generated):\n",
    "    EM_t = np.zeros(t.shape[0])\n",
    "    n_samples = s_X.shape[0]\n",
    "    s_X_unique = np.unique(s_X)\n",
    "    EM_t[0] = 1.\n",
    "    for u in s_X_unique:\n",
    "        # if (s_unif >= u).sum() > n_generated / 1000:\n",
    "        EM_t = np.maximum(EM_t, 1. / n_samples * (s_X > u).sum() -\n",
    "                          t * (s_unif > u).sum() / n_generated\n",
    "                          * volume_support)\n",
    "    amax = np.argmax(EM_t <= t_max) + 1\n",
    "    if amax == 1:\n",
    "        #print('\\n failed to achieve t_max \\n')\n",
    "        amax = -1\n",
    "    AUC = auc(t[:amax], EM_t[:amax])\n",
    "    return AUC, EM_t, amax\n",
    "\n",
    "\n"
   ]
  },
  {
   "cell_type": "code",
   "execution_count": 7,
   "metadata": {},
   "outputs": [],
   "source": [
    "#Creating data from uniform distribution required for the evaluation using EM curves\n",
    "n_features = 16\n",
    "n_generated = 10000\n",
    "#lim_inf and lim_sup are the values obtained from the data\n",
    "#lim_inf= minimum value across all files for a given attribute\n",
    "#lim_suo= maximum value across all files for a given attribute\n",
    "lim_inf =np.array([-7.43578727e-01 ,-9.71712288e-01, -9.51470155e-01, -7.43578727e-01,\n",
    " -1.87353427e+00, -4.66798492e+00 ,-2.15955480e+00, -1.59326046e+01,\n",
    " -1.03596092e+01, -1.74262034e+01, -4.17251899e+05, -7.13553947e+05,\n",
    " -7.37000000e+05,  4.17900000e+01 , 9.41933433e+04,  1.20000000e+00])\n",
    "lim_sup = np.array([8.25188230e-01, 9.99756249e-01, 6.89337039e-01, 8.25188230e-01,\n",
    " 2.90394943e+00, 4.11423214e+00 ,2.32271087e+00 ,1.09731515e+01,\n",
    " 8.64767069e+00 ,1.19577633e+01, 4.61069140e+05, 4.29000000e+05,\n",
    " 1.11270782e+06, 4.30600000e+01, 9.53475184e+04, 1.00000000e+02])\n",
    "volume_support = (lim_sup - lim_inf).prod()\n",
    "t = np.arange(0, 100 / volume_support, 0.01 / volume_support)\n",
    "unif = np.random.uniform(lim_inf, lim_sup, size=(n_generated, n_features))\n",
    "#print(unif.shape)"
   ]
  },
  {
   "cell_type": "code",
   "execution_count": 8,
   "metadata": {},
   "outputs": [],
   "source": [
    "#Load the trained model\n",
    "model = load_model('model.h5')\n",
    "\n",
    "#We test our model on the 5th Normal and Abnormal file\n",
    "testing_data1=np.loadtxt('DataSet/Resampled dataset/NORMAL/File5.bag.csv' ).T\n",
    "#print(testing_data1.shape)\n",
    "normalized_testing_data1=scaler.transform(testing_data1)\n",
    "testing_data2=np.loadtxt('DataSet/Resampled dataset/ABNORMAL/File5.bag.csv' ).T\n",
    "#print(testing_data2.shape)\n",
    "normalized_testing_data2=scaler.transform(testing_data2)\n",
    "X_test1,y_test1= split_sequences(normalized_testing_data1, N_STEPS)\n",
    "X_test2,y_test2= split_sequences(normalized_testing_data2, N_STEPS)\n",
    "X_test=np.concatenate((X_test1, X_test2))\n",
    "y_test=np.concatenate((y_test1, y_test2))\n",
    "#print(X_test1.shape, y_test1.shape)\n",
    "#print(X_test2.shape, y_test2.shape)\n",
    "#print(X_test.shape, y_test.shape)\n",
    "prediction1=model.predict(X_test1)\n",
    "prediction2=model.predict(X_test2)\n",
    "prediction=model.predict(X_test)\n",
    "#print(prediction1.shape)\n",
    "#print(prediction2.shape)\n",
    "anomaly_score1=distance.cdist(y_test1, prediction1,'sqeuclidean')\n",
    "anomaly_score2=distance.cdist(y_test2, prediction2,'sqeuclidean')\n",
    "\n",
    "#Calculating the anomaly score\n",
    "anomaly_score=np.concatenate((np.diag(anomaly_score1), np.diag(anomaly_score2)))\n",
    "#print(anomaly_score.shape)"
   ]
  },
  {
   "cell_type": "code",
   "execution_count": 9,
   "metadata": {},
   "outputs": [],
   "source": [
    "#Testing on data from uniform distribution required for evaluation using EM curves\n",
    "testing_data3=unif\n",
    "normalized_testing_data3=scaler.transform(testing_data3)\n",
    "X_test3,y_test3= split_sequences(normalized_testing_data3, N_STEPS)\n",
    "prediction3=model.predict(X_test3)\n",
    "#print(prediction3.shape)\n",
    "#print(y_test3.shape)\n",
    "anomaly_score3=distance.cdist(y_test3, prediction3,'sqeuclidean')\n",
    "anomaly_score3=np.diag(anomaly_score3)\n",
    "#print(anomaly_score3.shape)"
   ]
  },
  {
   "cell_type": "code",
   "execution_count": 19,
   "metadata": {},
   "outputs": [
    {
     "name": "stdout",
     "output_type": "stream",
     "text": [
      "11\n",
      "[0.00000000e+00 1.65345989e-33 3.30691977e-33 4.96037966e-33\n",
      " 6.61383954e-33 8.26729943e-33 9.92075931e-33 1.15742192e-32\n",
      " 1.32276791e-32 1.48811390e-32 1.65345989e-32]\n",
      "[1.         0.98597642 0.97600142 0.96602642 0.95605142 0.94607642\n",
      " 0.93610142 0.92612642 0.91615142 0.90617642 0.89620142]\n"
     ]
    },
    {
     "data": {
      "image/png": "[encoded data removed]",
      "text/plain": [
       "<Figure size 432x288 with 1 Axes>"
      ]
     },
     "metadata": {
      "needs_background": "light"
     },
     "output_type": "display_data"
    }
   ],
   "source": [
    "auc_cnn, em_cnn, amax = em(t, t_max, volume_support, anomaly_score3, anomaly_score, n_generated)\n",
    "plt.subplot(121)\n",
    "np.savetxt('t.csv',t[:amax])\n",
    "np.savetxt('em_cnn.csv',em_cnn[:amax])\n",
    "print(amax)\n",
    "print(t[:amax])\n",
    "print(em_cnn[:amax])\n",
    "plt.plot(t[:amax], em_cnn[:amax], lw=1,label='%s (em_score = %0.3e)'% ('cnn-timeforecasting', auc_cnn))\n",
    "\n",
    "plt.ylim([-0.05, 1.05])\n",
    "plt.xlabel('t', fontsize=20)\n",
    "plt.ylabel('EM(t)', fontsize=20)\n",
    "plt.title('EM curve comparison', fontsize=20)\n",
    "plt.legend(loc=\"lower left\")\n",
    "plt.savefig('em_cnn.png')\n"
   ]
  },
  {
   "cell_type": "code",
   "execution_count": null,
   "metadata": {},
   "outputs": [],
   "source": []
  }
 ],
 "metadata": {
  "kernelspec": {
   "display_name": "Python 3",
   "language": "python",
   "name": "python3"
  },
  "language_info": {
   "codemirror_mode": {
    "name": "ipython",
    "version": 3
   },
   "file_extension": ".py",
   "mimetype": "text/x-python",
   "name": "python",
   "nbconvert_exporter": "python",
   "pygments_lexer": "ipython3",
   "version": "3.7.4"
  }
 },
 "nbformat": 4,
 "nbformat_minor": 2
}
