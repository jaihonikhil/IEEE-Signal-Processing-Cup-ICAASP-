{
 "cells": [
  {
   "cell_type": "code",
   "execution_count": 1,
   "metadata": {},
   "outputs": [],
   "source": [
    "import numpy as np\n",
    "import pickle\n",
    "import pandas as pd\n",
    "import matplotlib.pyplot as plt\n",
    "import os\n",
    "from sklearn.ensemble import IsolationForest\n",
    "from sklearn.metrics import davies_bouldin_score\n",
    "from sklearn import metrics"
   ]
  },
  {
   "cell_type": "markdown",
   "metadata": {},
   "source": [
    "## Make an Isolation Forest classifier for classifying normal and abnormal points"
   ]
  },
  {
   "cell_type": "code",
   "execution_count": 2,
   "metadata": {},
   "outputs": [],
   "source": [
    "dirname = os.getcwd()"
   ]
  },
  {
   "cell_type": "code",
   "execution_count": 3,
   "metadata": {},
   "outputs": [],
   "source": [
    "data = np.hstack((np.loadtxt(dirname+ '/NORMAL/File0/File0.bag.csv'), np.loadtxt(dirname+ '/NORMAL/File1/File1.bag.csv'),np.loadtxt(dirname+ '/NORMAL/File2/File2.bag.csv'),np.loadtxt(dirname+ '/NORMAL/File3/File3.bag.csv'),np.loadtxt(dirname+ '/NORMAL/File4/File4.bag.csv')))\n",
    "data = data.T"
   ]
  },
  {
   "cell_type": "code",
   "execution_count": 4,
   "metadata": {},
   "outputs": [],
   "source": [
    "ab_data = np.hstack((np.loadtxt(dirname+ '/ABNORMAL/File0/File0.bag.csv'), np.loadtxt(dirname+ '/ABNORMAL/File1/File1.bag.csv'),np.loadtxt(dirname+ '/ABNORMAL/File2/File2.bag.csv'),np.loadtxt(dirname+ '/ABNORMAL/File3/File3.bag.csv'),np.loadtxt(dirname+ '/ABNORMAL/File4/File4.bag.csv')))\n",
    "ab_data = ab_data.T"
   ]
  },
  {
   "cell_type": "code",
   "execution_count": 5,
   "metadata": {},
   "outputs": [],
   "source": [
    "main_data = np.vstack((ab_data, data))"
   ]
  },
  {
   "cell_type": "code",
   "execution_count": 6,
   "metadata": {},
   "outputs": [],
   "source": [
    "pca = pickle.load(open(dirname + '/pca_transform.sav', 'rb'))\n",
    "main_data = pca.transform(main_data)"
   ]
  },
  {
   "cell_type": "code",
   "execution_count": 30,
   "metadata": {},
   "outputs": [],
   "source": [
    "clf = IsolationForest(n_estimators = 300, contamination = 'auto').fit(main_data)\n",
    "filename = 'iforest_classifier.sav'\n",
    "pickle.dump(clf, open(filename, 'wb'))"
   ]
  }
 ],
 "metadata": {
  "kernelspec": {
   "display_name": "Python 3",
   "language": "python",
   "name": "python3"
  },
  "language_info": {
   "codemirror_mode": {
    "name": "ipython",
    "version": 3
   },
   "file_extension": ".py",
   "mimetype": "text/x-python",
   "name": "python",
   "nbconvert_exporter": "python",
   "pygments_lexer": "ipython3",
   "version": "3.6.9"
  }
 },
 "nbformat": 4,
 "nbformat_minor": 2
}
